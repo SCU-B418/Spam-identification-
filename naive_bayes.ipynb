{
 "cells": [
  {
   "cell_type": "code",
   "execution_count": 4,
   "metadata": {},
   "outputs": [
    {
     "name": "stdout",
     "output_type": "stream",
     "text": [
      "14838\n",
      "['normal', 'spam']\n"
     ]
    }
   ],
   "source": [
    "from sklearn.datasets import load_files\n",
    "mail_train = load_files(container_path = 'Spam_identification/train', encoding='latin-1', random_state=42)\n",
    "print(len(mail_train.data))\n",
    "print(mail_train.target_names)"
   ]
  },
  {
   "cell_type": "code",
   "execution_count": 7,
   "metadata": {},
   "outputs": [
    {
     "data": {
      "text/plain": [
       "Pipeline(memory=None,\n",
       "     steps=[('vect', CountVectorizer(analyzer='word', binary=False, decode_error='strict',\n",
       "        dtype=<class 'numpy.int64'>, encoding='utf-8', input='content',\n",
       "        lowercase=True, max_df=1.0, max_features=None, min_df=1,\n",
       "        ngram_range=(1, 1), preprocessor=None, stop_words=None,\n",
       "        strip...inear_tf=False, use_idf=True)), ('clf', MultinomialNB(alpha=1.0, class_prior=None, fit_prior=True))])"
      ]
     },
     "execution_count": 7,
     "metadata": {},
     "output_type": "execute_result"
    }
   ],
   "source": [
    "from sklearn.pipeline import Pipeline\n",
    "from sklearn.feature_extraction.text import CountVectorizer\n",
    "from sklearn.feature_extraction.text import TfidfTransformer\n",
    "from sklearn.naive_bayes import MultinomialNB\n",
    "spam_clf = Pipeline([('vect', CountVectorizer()),('tfidf', TfidfTransformer()),('clf', MultinomialNB())])\n",
    "spam_clf.fit(mail_train.data, mail_train.target)"
   ]
  },
  {
   "cell_type": "code",
   "execution_count": 9,
   "metadata": {},
   "outputs": [
    {
     "name": "stdout",
     "output_type": "stream",
     "text": [
      "准确率： 0.9974489795918368\n",
      "             precision    recall  f1-score   support\n",
      "\n",
      "     normal       0.99      1.00      1.00       193\n",
      "       spam       1.00      0.99      1.00       199\n",
      "\n",
      "avg / total       1.00      1.00      1.00       392\n",
      "\n",
      "混淆矩阵：\n",
      " [[193   0]\n",
      " [  1 198]]\n"
     ]
    }
   ],
   "source": [
    "import numpy as np\n",
    "mail_test = load_files(container_path = 'Spam_identification/test', encoding='latin-1', random_state=42)\n",
    "predicted = spam_clf.predict(mail_test.data)\n",
    "print('准确率：', np.mean(predicted == mail_test.target))\n",
    "from sklearn import metrics\n",
    "print(metrics.classification_report(mail_test.target, predicted,target_names=mail_test.target_names))\n",
    "print('混淆矩阵：\\n', metrics.confusion_matrix(mail_test.target, predicted))"
   ]
  },
  {
   "cell_type": "code",
   "execution_count": 12,
   "metadata": {},
   "outputs": [],
   "source": [
    "import pickle\n",
    "with open('s_clf.pkl', 'wb') as f1:\n",
    "    pickle.dump(spam_clf, f1, -1)"
   ]
  },
  {
   "cell_type": "code",
   "execution_count": 13,
   "metadata": {},
   "outputs": [
    {
     "name": "stdout",
     "output_type": "stream",
     "text": [
      "C:\\Users\\wangjiawei\n"
     ]
    }
   ],
   "source": []
  },
  {
   "cell_type": "code",
   "execution_count": null,
   "metadata": {},
   "outputs": [],
   "source": []
  }
 ],
 "metadata": {
  "kernelspec": {
   "display_name": "Python 3",
   "language": "python",
   "name": "python3"
  },
  "language_info": {
   "codemirror_mode": {
    "name": "ipython",
    "version": 3
   },
   "file_extension": ".py",
   "mimetype": "text/x-python",
   "name": "python",
   "nbconvert_exporter": "python",
   "pygments_lexer": "ipython3",
   "version": "3.6.4"
  }
 },
 "nbformat": 4,
 "nbformat_minor": 2
}
